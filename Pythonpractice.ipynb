{
  "nbformat": 4,
  "nbformat_minor": 0,
  "metadata": {
    "colab": {
      "provenance": [],
      "authorship_tag": "ABX9TyPBizgCRkgTFn40jluMEw0w",
      "include_colab_link": true
    },
    "kernelspec": {
      "name": "python3",
      "display_name": "Python 3"
    },
    "language_info": {
      "name": "python"
    }
  },
  "cells": [
    {
      "cell_type": "markdown",
      "metadata": {
        "id": "view-in-github",
        "colab_type": "text"
      },
      "source": [
        "<a href=\"https://colab.research.google.com/github/Sinchana-Chaluvaraju/Practice_on_Colab/blob/main/Pythonpractice.ipynb\" target=\"_parent\"><img src=\"https://colab.research.google.com/assets/colab-badge.svg\" alt=\"Open In Colab\"/></a>"
      ]
    },
    {
      "cell_type": "code",
      "execution_count": null,
      "metadata": {
        "colab": {
          "base_uri": "https://localhost:8080/"
        },
        "id": "fAFNy0Kmb74H",
        "outputId": "d9683553-1ccf-4ab8-a8d4-f786441a15f7"
      },
      "outputs": [
        {
          "output_type": "stream",
          "name": "stdout",
          "text": [
            "Hello, World\n"
          ]
        }
      ],
      "source": [
        "print (\"Hello, World\")\n"
      ]
    },
    {
      "cell_type": "code",
      "source": [
        "#Python Syntax (Indentation)\n",
        "if 5 > 2:\n",
        "  print (\"Five is greater than two!\")"
      ],
      "metadata": {
        "colab": {
          "base_uri": "https://localhost:8080/"
        },
        "id": "ZFDEyZlZcm6F",
        "outputId": "f039fc38-48de-45b5-b008-93d8876dedd0"
      },
      "execution_count": null,
      "outputs": [
        {
          "output_type": "stream",
          "name": "stdout",
          "text": [
            "Five is greater than two!\n"
          ]
        }
      ]
    },
    {
      "cell_type": "code",
      "source": [
        "if 5 > 2:\n",
        "        print(\"Five is greater than two!\")"
      ],
      "metadata": {
        "colab": {
          "base_uri": "https://localhost:8080/"
        },
        "id": "Y29R9CpzdPxU",
        "outputId": "69337e11-f841-48ca-8574-853c71598b98"
      },
      "execution_count": null,
      "outputs": [
        {
          "output_type": "stream",
          "name": "stdout",
          "text": [
            "Five is greater than two!\n"
          ]
        }
      ]
    },
    {
      "cell_type": "code",
      "source": [
        "#Python Variables\n",
        "x = 5\n",
        "y = \"Hello world\"\n",
        "print ('x=', x)\n",
        "print ('y=', y)"
      ],
      "metadata": {
        "colab": {
          "base_uri": "https://localhost:8080/"
        },
        "id": "R-0ewXPSdVZf",
        "outputId": "9b43de7d-33a4-4c2d-b140-49133e4bc6bf"
      },
      "execution_count": null,
      "outputs": [
        {
          "output_type": "stream",
          "name": "stdout",
          "text": [
            "x= 5\n",
            "y= Hello world\n"
          ]
        }
      ]
    },
    {
      "cell_type": "code",
      "source": [
        "\"\"\"\n",
        "This is\n",
        "a\n",
        "multiline comment\n",
        "\"\"\"\n",
        "print (\"Hello World\")"
      ],
      "metadata": {
        "colab": {
          "base_uri": "https://localhost:8080/"
        },
        "id": "KZi3bXb2doJ6",
        "outputId": "247d4949-2586-4e7b-d5d8-1fef3ee0af47"
      },
      "execution_count": null,
      "outputs": [
        {
          "output_type": "stream",
          "name": "stdout",
          "text": [
            "Hello World\n"
          ]
        }
      ]
    },
    {
      "cell_type": "code",
      "source": [
        "#Python Variables\n",
        "x= 5\n",
        "x= \"Sinchana\"\n",
        "print(x)"
      ],
      "metadata": {
        "colab": {
          "base_uri": "https://localhost:8080/"
        },
        "id": "XNBpEykweU97",
        "outputId": "e87f62b1-7742-4301-e5a9-e73a3bd3b344"
      },
      "execution_count": null,
      "outputs": [
        {
          "output_type": "stream",
          "name": "stdout",
          "text": [
            "Sinchana\n"
          ]
        }
      ]
    },
    {
      "cell_type": "code",
      "source": [
        "#casting: specifying the datatype of a variable\n",
        "x= int(5)\n",
        "y= float(5)\n",
        "z= str(5)\n",
        "print (x)\n",
        "print (y)\n",
        "print (z)"
      ],
      "metadata": {
        "colab": {
          "base_uri": "https://localhost:8080/"
        },
        "id": "06DNYCF3ef9U",
        "outputId": "cb07a6fa-cc42-43d5-e25f-75dcc49db1db"
      },
      "execution_count": null,
      "outputs": [
        {
          "output_type": "stream",
          "name": "stdout",
          "text": [
            "5\n",
            "5.0\n",
            "5\n"
          ]
        }
      ]
    },
    {
      "cell_type": "code",
      "source": [
        "#to get the datatype of a variable\n",
        "x= 5\n",
        "y= 6.6\n",
        "z= \"Sinchana\"\n",
        "print (type(x))\n",
        "print (type(y))\n",
        "print (type(z))"
      ],
      "metadata": {
        "colab": {
          "base_uri": "https://localhost:8080/"
        },
        "id": "oOCP3Z5_fBn6",
        "outputId": "21733b27-1b98-4098-e61a-c20e2add92fb"
      },
      "execution_count": null,
      "outputs": [
        {
          "output_type": "stream",
          "name": "stdout",
          "text": [
            "<class 'int'>\n",
            "<class 'float'>\n",
            "<class 'str'>\n"
          ]
        }
      ]
    },
    {
      "cell_type": "code",
      "source": [
        "#legal variable names\n",
        "myvar = \"John\"\n",
        "my_var = \"John\"\n",
        "_my_var = \"John\"\n",
        "myVar = \"John\"\n",
        "MYVAR = \"John\"\n",
        "myvar2 = \"John\""
      ],
      "metadata": {
        "id": "-NjgxEXUfdQv"
      },
      "execution_count": null,
      "outputs": []
    },
    {
      "cell_type": "code",
      "source": [
        "#Illegal names\n",
        "2myvar = \"John\"\n",
        "my-var = \"John\"\n",
        "my var = \"John\""
      ],
      "metadata": {
        "colab": {
          "base_uri": "https://localhost:8080/",
          "height": 106
        },
        "id": "lmkuTbFYfwXd",
        "outputId": "60a96e8d-5bcb-4adc-8169-514ba841dfe1"
      },
      "execution_count": null,
      "outputs": [
        {
          "output_type": "error",
          "ename": "SyntaxError",
          "evalue": "invalid decimal literal (<ipython-input-15-b561d81a3667>, line 2)",
          "traceback": [
            "\u001b[0;36m  File \u001b[0;32m\"<ipython-input-15-b561d81a3667>\"\u001b[0;36m, line \u001b[0;32m2\u001b[0m\n\u001b[0;31m    2myvar = \"John\"\u001b[0m\n\u001b[0m    ^\u001b[0m\n\u001b[0;31mSyntaxError\u001b[0m\u001b[0;31m:\u001b[0m invalid decimal literal\n"
          ]
        }
      ]
    },
    {
      "cell_type": "code",
      "source": [
        "#camel case\n",
        "myVariableName = \"Sinchana\"\n",
        "#Pascal case\n",
        "MyVariableName = \"Sinchana\"\n",
        "#snake case\n",
        "my_variable_name = \"Sinchana\""
      ],
      "metadata": {
        "id": "0dCXOTzxf0to"
      },
      "execution_count": null,
      "outputs": []
    },
    {
      "cell_type": "code",
      "source": [
        "#many values to multiple variables\n",
        "x, y, z = \"Orange\", \"Banana\", \"Cherry\"\n",
        "print(x)\n",
        "print(y)\n",
        "print(z)"
      ],
      "metadata": {
        "colab": {
          "base_uri": "https://localhost:8080/"
        },
        "id": "yNB1Fp9CgSPh",
        "outputId": "a7013ba4-138c-47fd-b4d7-266b12b7f47f"
      },
      "execution_count": null,
      "outputs": [
        {
          "output_type": "stream",
          "name": "stdout",
          "text": [
            "Orange\n",
            "Banana\n",
            "Cherry\n"
          ]
        }
      ]
    },
    {
      "cell_type": "code",
      "source": [
        "#same values to multiple variables\n",
        "x = y = z = \"Orange\"\n",
        "print(x)\n",
        "print(y)\n",
        "print(z)"
      ],
      "metadata": {
        "colab": {
          "base_uri": "https://localhost:8080/"
        },
        "id": "_pPAkLzGgdPW",
        "outputId": "560cbfef-0f2d-4380-c8ef-54db336f7ed7"
      },
      "execution_count": null,
      "outputs": [
        {
          "output_type": "stream",
          "name": "stdout",
          "text": [
            "Orange\n",
            "Orange\n",
            "Orange\n"
          ]
        }
      ]
    },
    {
      "cell_type": "code",
      "source": [
        "#unpacking a collection in list, tuple,etc\n",
        "fruits = [\"apple\", \"banana\", \"cherry\"]\n",
        "x, y, z = fruits\n",
        "print(x)\n",
        "print(y)\n",
        "print(z)"
      ],
      "metadata": {
        "colab": {
          "base_uri": "https://localhost:8080/"
        },
        "id": "l9WU0A2UgyzX",
        "outputId": "df62902d-c4c7-42d5-d9f9-6db5d4764f86"
      },
      "execution_count": null,
      "outputs": [
        {
          "output_type": "stream",
          "name": "stdout",
          "text": [
            "apple\n",
            "banana\n",
            "cherry\n"
          ]
        }
      ]
    },
    {
      "cell_type": "code",
      "source": [
        "#output variables use input functions\n",
        "x = \"Python\"\n",
        "y = \"is\"\n",
        "z = \"awesome\"\n",
        "a = 5\n",
        "b = 10\n",
        "print(a + b) # + is used as a mathematical operator\n",
        "print(x, y, z) # Prints the value of variables separated by space\n",
        "print(x + y + z) # In case of strings, + operator prints as one whole output"
      ],
      "metadata": {
        "colab": {
          "base_uri": "https://localhost:8080/"
        },
        "id": "RT38HquTg7R_",
        "outputId": "7a16edae-0780-4306-b95f-beea7a203f4d"
      },
      "execution_count": null,
      "outputs": [
        {
          "output_type": "stream",
          "name": "stdout",
          "text": [
            "15\n",
            "Python is awesome\n",
            "Pythonisawesome\n"
          ]
        }
      ]
    },
    {
      "cell_type": "code",
      "source": [
        "#not a correct usage of + operator\n",
        "x = 5\n",
        "y = \"John\"\n",
        "print(x + y)"
      ],
      "metadata": {
        "colab": {
          "base_uri": "https://localhost:8080/",
          "height": 176
        },
        "id": "GfOl6Ha0hQog",
        "outputId": "0a886807-66ae-41a9-996d-9a9165be847f"
      },
      "execution_count": null,
      "outputs": [
        {
          "output_type": "error",
          "ename": "TypeError",
          "evalue": "unsupported operand type(s) for +: 'int' and 'str'",
          "traceback": [
            "\u001b[0;31m---------------------------------------------------------------------------\u001b[0m",
            "\u001b[0;31mTypeError\u001b[0m                                 Traceback (most recent call last)",
            "\u001b[0;32m<ipython-input-25-67a9b2b940dc>\u001b[0m in \u001b[0;36m<cell line: 4>\u001b[0;34m()\u001b[0m\n\u001b[1;32m      2\u001b[0m \u001b[0mx\u001b[0m \u001b[0;34m=\u001b[0m \u001b[0;36m5\u001b[0m\u001b[0;34m\u001b[0m\u001b[0;34m\u001b[0m\u001b[0m\n\u001b[1;32m      3\u001b[0m \u001b[0my\u001b[0m \u001b[0;34m=\u001b[0m \u001b[0;34m\"John\"\u001b[0m\u001b[0;34m\u001b[0m\u001b[0;34m\u001b[0m\u001b[0m\n\u001b[0;32m----> 4\u001b[0;31m \u001b[0mprint\u001b[0m\u001b[0;34m(\u001b[0m\u001b[0mx\u001b[0m \u001b[0;34m+\u001b[0m \u001b[0my\u001b[0m\u001b[0;34m)\u001b[0m\u001b[0;34m\u001b[0m\u001b[0;34m\u001b[0m\u001b[0m\n\u001b[0m",
            "\u001b[0;31mTypeError\u001b[0m: unsupported operand type(s) for +: 'int' and 'str'"
          ]
        }
      ]
    },
    {
      "cell_type": "code",
      "source": [
        "#Global Variable: variable defined outside funtion\n",
        "x = \"awesome\"\n",
        "\n",
        "def myfunc():\n",
        "  print(\"Python is \" + x)\n",
        "\n",
        "myfunc()"
      ],
      "metadata": {
        "colab": {
          "base_uri": "https://localhost:8080/"
        },
        "id": "n28Gf86Qjond",
        "outputId": "c0ed0c89-7269-4f9c-bee6-f0d4a642c8f0"
      },
      "execution_count": null,
      "outputs": [
        {
          "output_type": "stream",
          "name": "stdout",
          "text": [
            "Python is awesome\n"
          ]
        }
      ]
    },
    {
      "cell_type": "code",
      "source": [
        "# x being both global variable and a local variable inside function\n",
        "x = \"awesome\"\n",
        "\n",
        "def myfunc():\n",
        "  x = \"fantastic\"\n",
        "  print(\"Python is \" + x)\n",
        "\n",
        "myfunc()\n",
        "\n",
        "print(\"Python is \" + x)"
      ],
      "metadata": {
        "colab": {
          "base_uri": "https://localhost:8080/"
        },
        "id": "_-0E-aX_jxft",
        "outputId": "aa9725dd-b797-4fdb-cd12-be14420af39a"
      },
      "execution_count": null,
      "outputs": [
        {
          "output_type": "stream",
          "name": "stdout",
          "text": [
            "Python is fantastic\n",
            "Python is awesome\n"
          ]
        }
      ]
    },
    {
      "cell_type": "code",
      "source": [
        "# global keyword\n",
        "x = \"awesome\"\n",
        "\n",
        "def myfunc():\n",
        "  global x # changing the value of a global variable in function\n",
        "  x = \"fantastic\"\n",
        "\n",
        "myfunc()\n",
        "\n",
        "print(\"Python is \" + x)"
      ],
      "metadata": {
        "colab": {
          "base_uri": "https://localhost:8080/"
        },
        "id": "nk_c7A99kLJb",
        "outputId": "36d7b0e5-c68f-4a52-ae07-42d3bb7d3806"
      },
      "execution_count": null,
      "outputs": [
        {
          "output_type": "stream",
          "name": "stdout",
          "text": [
            "Python is fantastic\n"
          ]
        }
      ]
    },
    {
      "cell_type": "code",
      "source": [
        "#Data Types\n",
        "a = \"Hello World\" #string\n",
        "b = 20 # int\n",
        "c = 20.5 #float\n",
        "d = 1j #complex\n",
        "e = [\"apple\", \"banana\", \"cherry\"] #list\n",
        "f = (\"apple\", \"banana\", \"cherry\")#tuple\n",
        "g = {\"name\" : \"Sinchana\", \"age\" : \"27\"}#dict\n",
        "h = {\"apple\", \"banana\", \"cherry\"}#set\n",
        "i = frozenset ( { \"apple\", \"banana\", \"cherry\" } )#frozenset\n",
        "j = range (6)# range\n",
        "k = True# or False - boolean\n",
        "l = b\"Hello\"# bytes\n",
        "m = bytearray (5) #bytearray\n",
        "n = memoryview ( bytes(5) ) #memory view\n",
        "o = None #None type\n",
        "print (a, b, c, d, e, f, g, h, i, j, k, l, m, n, o)"
      ],
      "metadata": {
        "colab": {
          "base_uri": "https://localhost:8080/"
        },
        "id": "AOPahK2vk1Mc",
        "outputId": "5cf48172-00dc-4eb7-f77b-7aa9d9c95b38"
      },
      "execution_count": null,
      "outputs": [
        {
          "output_type": "stream",
          "name": "stdout",
          "text": [
            "Hello World 20 20.5 1j ['apple', 'banana', 'cherry'] ('apple', 'banana', 'cherry') {'name': 'Sinchana', 'age': '27'} {'cherry', 'banana', 'apple'} frozenset({'cherry', 'banana', 'apple'}) range(0, 6) True b'Hello' bytearray(b'\\x00\\x00\\x00\\x00\\x00') <memory at 0x783bfa66fac0> None\n"
          ]
        }
      ]
    },
    {
      "cell_type": "code",
      "source": [
        "#Setting the specific datatype\n",
        "a = str(\"Hello World\")\n",
        "b = int(20) # int\n",
        "c = float(20.5) #float\n",
        "d = complex(1j) #complex\n",
        "e = list([\"apple\", \"banana\", \"cherry\"])#list\n",
        "f = tuple((\"apple\", \"banana\", \"cherry\"))#tuple\n",
        "g = dict({\"name\" : \"Sinchana\", \"age\" : \"27\"})#dict\n",
        "h = set({\"apple\", \"banana\", \"cherry\"})#set\n",
        "i = frozenset ( { \"apple\", \"banana\", \"cherry\" } )#frozenset\n",
        "j = range (6)# range\n",
        "k = bool(5)# or False - boolean\n",
        "l = bytes(5)# bytes\n",
        "m = bytearray (5) #bytearray\n",
        "n = memoryview(bytes(5)) #memory view access the internal data of an object's buffer without making a copy of it\n",
        "o = None #None type represents absence of value\n",
        "print (type(a), type(b), type(c), type(d), type(e), type(f), type(g), type(h), type(i), type(j), type(k), type(l), type(m), type(n), type(o))"
      ],
      "metadata": {
        "colab": {
          "base_uri": "https://localhost:8080/"
        },
        "id": "7LnJD5cpuu-4",
        "outputId": "bc5569e0-bc00-485d-e5da-32ce676e001f"
      },
      "execution_count": null,
      "outputs": [
        {
          "output_type": "stream",
          "name": "stdout",
          "text": [
            "<class 'str'> <class 'int'> <class 'float'> <class 'complex'> <class 'list'> <class 'tuple'> <class 'dict'> <class 'set'> <class 'frozenset'> <class 'range'> <class 'bool'> <class 'bytes'> <class 'bytearray'> <class 'memoryview'> <class 'NoneType'>\n"
          ]
        }
      ]
    },
    {
      "cell_type": "code",
      "source": [
        "#Python Numbers and its conversion\n",
        "x = 1 #int\n",
        "y = 2.8 #float\n",
        "z = 1j #complex\n",
        "\n",
        "#convert from int to float\n",
        "a = float(x)\n",
        "\n",
        "#convert from float to int\n",
        "b = int(y)\n",
        "\n",
        "#convert from int to complex\n",
        "c = complex(z)\n",
        "\n",
        "print(x)\n",
        "print(y)\n",
        "print(z)\n",
        "\n",
        "print(type(a))\n",
        "print(type(b))\n",
        "print(type(c))\n"
      ],
      "metadata": {
        "colab": {
          "base_uri": "https://localhost:8080/"
        },
        "id": "XV25BNzXxC_8",
        "outputId": "2c1e5696-a611-4c00-e781-d7d8e44272b1"
      },
      "execution_count": null,
      "outputs": [
        {
          "output_type": "stream",
          "name": "stdout",
          "text": [
            "1\n",
            "2.8\n",
            "1j\n",
            "<class 'float'>\n",
            "<class 'int'>\n",
            "<class 'complex'>\n"
          ]
        }
      ]
    },
    {
      "cell_type": "code",
      "source": [
        "#Random Numbers\n",
        "import random\n",
        "print(random.randrange(1, 10))"
      ],
      "metadata": {
        "colab": {
          "base_uri": "https://localhost:8080/"
        },
        "id": "ImKkoDm11due",
        "outputId": "89fd08eb-19e3-44e4-8333-d7ed26fd4c93"
      },
      "execution_count": null,
      "outputs": [
        {
          "output_type": "stream",
          "name": "stdout",
          "text": [
            "8\n"
          ]
        }
      ]
    },
    {
      "cell_type": "code",
      "source": [
        "#Python Casting Integers\n",
        "x = int(1)   # x will be 1\n",
        "y = int(2.8) # y will be 2\n",
        "z = int(\"3\") # z will be 3\n",
        "print (x,  y, z)"
      ],
      "metadata": {
        "colab": {
          "base_uri": "https://localhost:8080/"
        },
        "id": "u0MYvOXM1qMx",
        "outputId": "31a29a91-40ae-4ed8-ddf9-7702c680f2c2"
      },
      "execution_count": null,
      "outputs": [
        {
          "output_type": "stream",
          "name": "stdout",
          "text": [
            "1 2 3\n"
          ]
        }
      ]
    },
    {
      "cell_type": "code",
      "source": [
        "#Python Casting Float\n",
        "x = float(1)     # x will be 1.0\n",
        "y = float(2.8)   # y will be 2.8\n",
        "z = float(\"3\")   # z will be 3.0\n",
        "w = float(\"4.2\") # w will be 4.2\n",
        "print(x, y, z, w)"
      ],
      "metadata": {
        "colab": {
          "base_uri": "https://localhost:8080/"
        },
        "id": "DFaDP9XU2UhR",
        "outputId": "bd314a72-ccc1-443b-deb8-7667aeb9fa53"
      },
      "execution_count": null,
      "outputs": [
        {
          "output_type": "stream",
          "name": "stdout",
          "text": [
            "1.0 2.8 3.0 4.2\n"
          ]
        }
      ]
    },
    {
      "cell_type": "code",
      "source": [
        "#Python Casting strings\n",
        "x = str(\"s1\")\n",
        "y = str(2)\n",
        "z = str(3.0)\n",
        "print(x, y, z)"
      ],
      "metadata": {
        "colab": {
          "base_uri": "https://localhost:8080/"
        },
        "id": "b8JgyvOH2drk",
        "outputId": "79790659-5c51-42e2-e76e-5c820ff725a3"
      },
      "execution_count": null,
      "outputs": [
        {
          "output_type": "stream",
          "name": "stdout",
          "text": [
            "s1 2 3.0\n"
          ]
        }
      ]
    },
    {
      "cell_type": "code",
      "source": [
        "#Quotes inside Quotes\n",
        "print(\"It's alright\")\n",
        "print(\"He is called 'Johnny'\")\n",
        "print('He is called \"Johnny\"')"
      ],
      "metadata": {
        "colab": {
          "base_uri": "https://localhost:8080/"
        },
        "id": "czNhC-Jr3SFg",
        "outputId": "1345487e-ca56-45e1-8d87-1fd3443a687d"
      },
      "execution_count": null,
      "outputs": [
        {
          "output_type": "stream",
          "name": "stdout",
          "text": [
            "It's alright\n",
            "He is called 'Johnny'\n",
            "He is called \"Johnny\"\n"
          ]
        }
      ]
    },
    {
      "cell_type": "code",
      "source": [
        "#multiline Strings\n",
        "a = \"\"\"Lorem ipsum dolor sit amet,\n",
        "consectetur adipiscing elit,\n",
        "sed do eiusmod tempor incididunt\n",
        "ut labore et dolore magna aliqua.\"\"\"  #or 3 single quotes\n",
        "print(a)"
      ],
      "metadata": {
        "colab": {
          "base_uri": "https://localhost:8080/"
        },
        "id": "2Pw8op3J3ZOb",
        "outputId": "7d41915a-3dd9-4bf9-80f7-b70e7226c6e9"
      },
      "execution_count": null,
      "outputs": [
        {
          "output_type": "stream",
          "name": "stdout",
          "text": [
            "Lorem ipsum dolor sit amet,\n",
            "consectetur adipiscing elit,\n",
            "sed do eiusmod tempor incididunt\n",
            "ut labore et dolore magna aliqua.\n"
          ]
        }
      ]
    },
    {
      "cell_type": "code",
      "source": [
        "#Strings are arrays\n",
        "a = \"Hello World\"\n",
        "print(a[1]) #antwort: e\n",
        "\n",
        "#looping through string\n",
        "for y in \"banana\":\n",
        "  print(y)\n",
        "\n",
        "\n",
        "#String length\n",
        "print(len(a), len(y))\n",
        "\n",
        "#check string\n",
        "txt = \"The best things in life are free!\"\n",
        "print(\"free\" in txt) #bool output\n",
        "\n",
        "#with if statement\n",
        "txt = \"The best things in life are free!\"\n",
        "if \"free\" in txt:\n",
        "  print(\"Yes, 'free' is present.\")\n",
        "\n",
        "\n",
        "#check if NOT\n",
        "msg = \"Nothing is free in life!\"\n",
        "print(\"expensive\" not in msg)\n",
        "\n",
        "#Not in if statement\n",
        "message = \"Nothing is free in life\"\n",
        "if \"expensive\" not in message:\n",
        "  print(\"No, 'expensive' is NOT present.\")"
      ],
      "metadata": {
        "colab": {
          "base_uri": "https://localhost:8080/"
        },
        "id": "4jWjllCb3oRk",
        "outputId": "eab01e4c-21a5-4180-8eac-6c3265cdf78a"
      },
      "execution_count": null,
      "outputs": [
        {
          "output_type": "stream",
          "name": "stdout",
          "text": [
            "e\n",
            "b\n",
            "a\n",
            "n\n",
            "a\n",
            "n\n",
            "a\n",
            "11 1\n",
            "True\n",
            "Yes, 'free' is present.\n",
            "True\n",
            "No, 'expensive' is NOT present.\n"
          ]
        }
      ]
    },
    {
      "cell_type": "code",
      "source": [
        "#Slicing Strings\n",
        "b = \"Hello World!\"\n",
        "print(b[2:5])      #for my reference: counting from 0; first element position = 2; till desired position = 4th element (but have to mention 5)"
      ],
      "metadata": {
        "id": "7HZIgWDG6u04",
        "colab": {
          "base_uri": "https://localhost:8080/"
        },
        "outputId": "ed4c1e83-cca8-4300-9038-4d53e8e3ec2c"
      },
      "execution_count": null,
      "outputs": [
        {
          "output_type": "stream",
          "name": "stdout",
          "text": [
            "llo\n"
          ]
        }
      ]
    },
    {
      "cell_type": "code",
      "source": [
        "#Slice from start\n",
        "b = \"Hello World!\"\n",
        "print(b[:5])"
      ],
      "metadata": {
        "colab": {
          "base_uri": "https://localhost:8080/"
        },
        "id": "jz2JvtyaMpDU",
        "outputId": "38386519-13a2-4eed-e441-2512d80fd9a5"
      },
      "execution_count": null,
      "outputs": [
        {
          "output_type": "stream",
          "name": "stdout",
          "text": [
            "Hello\n"
          ]
        }
      ]
    },
    {
      "cell_type": "code",
      "source": [
        "#Slice to end\n",
        "b = \"Hello World!\"\n",
        "print(b[0:])"
      ],
      "metadata": {
        "colab": {
          "base_uri": "https://localhost:8080/"
        },
        "id": "wdp3eKLgN0CX",
        "outputId": "20963a9b-66ac-4c4c-9c59-5233aaafa9cb"
      },
      "execution_count": null,
      "outputs": [
        {
          "output_type": "stream",
          "name": "stdout",
          "text": [
            "Hello World!\n"
          ]
        }
      ]
    },
    {
      "cell_type": "code",
      "source": [
        "#Negative Indexing\n",
        "b = \"Hello World!\"\n",
        "print(b[-5:-2])          #negative indexing is from -1 and not 0; if we need -2, we need to consider -3(l) not -2(d)"
      ],
      "metadata": {
        "colab": {
          "base_uri": "https://localhost:8080/"
        },
        "id": "Cy--mj_bOR4R",
        "outputId": "e855f17d-454a-41db-d259-2c6b22afe740"
      },
      "execution_count": null,
      "outputs": [
        {
          "output_type": "stream",
          "name": "stdout",
          "text": [
            "orl\n"
          ]
        }
      ]
    },
    {
      "cell_type": "code",
      "source": [
        "#Modify Strings\n",
        "#Uppercase\n",
        "a = \"Hello, World!\"\n",
        "print(a.upper())\n",
        "\n",
        "#Lower case\n",
        "print(a.lower())\n",
        "\n",
        "#Remove Whitespaces\n",
        "b = \"  Hello World!   \"\n",
        "print(b.strip())\n",
        "\n",
        "#Replace String\n",
        "print(a.replace(\"H\", \"J\"))\n",
        "\n",
        "#split string\n",
        "print(a.split(\",\"))"
      ],
      "metadata": {
        "colab": {
          "base_uri": "https://localhost:8080/"
        },
        "id": "P1VuNDkZOeGw",
        "outputId": "66d27b7c-1975-4c0e-a015-0d761abf13df"
      },
      "execution_count": null,
      "outputs": [
        {
          "output_type": "stream",
          "name": "stdout",
          "text": [
            "HELLO, WORLD!\n",
            "hello, world!\n",
            "Hello World!\n",
            "Jello, World!\n",
            "['Hello', ' World!']\n"
          ]
        }
      ]
    },
    {
      "cell_type": "code",
      "source": [
        "#String Concatenation = combine; concatinating\n",
        "a = \"Hello\"\n",
        "b = \"World\"\n",
        "c = a + b\n",
        "print(c)\n",
        "\n",
        "#How to add space if needed?\n",
        "c = a + \" \" + b\n",
        "print(c)"
      ],
      "metadata": {
        "colab": {
          "base_uri": "https://localhost:8080/"
        },
        "id": "Qves0j7QQ_zk",
        "outputId": "38f6898d-db30-4ba7-8762-e89a0d088d92"
      },
      "execution_count": null,
      "outputs": [
        {
          "output_type": "stream",
          "name": "stdout",
          "text": [
            "HelloWorld\n",
            "Hello World\n"
          ]
        }
      ]
    },
    {
      "cell_type": "code",
      "source": [
        "#Strings Format\n",
        "#code following throws error instead use f-strings\n",
        "#age = 26\n",
        "#txt = \"My name is Sinchana, I am \" + age\n",
        "#print(txt)\n",
        "\n",
        "#F- strings\n",
        "age = 26\n",
        "txt = f\"My name is Sinchana, I am {age}\"\n",
        "print(txt)\n",
        "\n",
        "#Concept of placehoders and modifiers\n",
        "price = 59\n",
        "txt = f\"Cost of the headset is {price} euros\"\n",
        "print(txt)\n",
        "\n",
        "#To display the cost in decimals\n",
        "price = 59\n",
        "txt = f\"Cost of the headset is {price: .2f} euros\"\n",
        "print(txt)\n",
        "\n",
        "#can also insert some snipet of the code inside f- strings\n",
        "txt = f\"Cost of the headset is {36 * 5} euros\"\n",
        "print(txt)"
      ],
      "metadata": {
        "colab": {
          "base_uri": "https://localhost:8080/"
        },
        "id": "P2DpI18rS0M2",
        "outputId": "34e56055-4c5f-47a6-ec21-fab1c90f3e79"
      },
      "execution_count": null,
      "outputs": [
        {
          "output_type": "stream",
          "name": "stdout",
          "text": [
            "My name is Sinchana, I am 26\n",
            "Cost of the headset is 59 euros\n",
            "Cost of the headset is  59.00 euros\n",
            "Cost of the headset is 180 euros\n"
          ]
        }
      ]
    },
    {
      "cell_type": "code",
      "source": [
        "#Python- Escape characters\n",
        "txt = \"We are so called \\\"Vikikngs\\\" from the north.\"  #Double Quotes 1\n",
        "txt = \"We are so called \\'Vikikngs\\' from the north.\"  #Single Quotes 2\n",
        "txt = \"We are so called \\\\Vikikngs\\\\ from the north.\"  #Backslash 3\n",
        "txt = \"We are so called \\nVikikngs\\n from the north.\"  #Newline 4\n",
        "txt = \"We are so called \\rVikikngs\\r from the north.\"  #Carriage Return 5\n",
        "txt = \"We are so called \\tVikikngs\\t from the north.\"  #Tab 6\n",
        "txt = \"We are so called \\bVikikngs\\b from the north.\"  #backslash 7\n",
        "txt = \"We are so called \\fVikikngs\\f from the north.\"  #form feed 8\n",
        "\n",
        "print(txt)\n",
        "\n",
        "# Octal for 'A' (65 in decimal, 101 in octal) 8\n",
        "s = \"\\101\"\n",
        "print(s)  # Output: 'A'\n",
        "\n",
        "# Octal for 'Hello' ('H': 110, 'e': 145, 'l': 154, 'l': 154, 'o': 157)\n",
        "t = \"\\110\\145\\154\\154\\157\"\n",
        "print(t)  # Output: 'Hello'\n",
        "\n",
        "\n",
        "# Hexadecimal for 'A' (65 in decimal, 41 in hexadecimal) 9\n",
        "u = \"\\x41\"\n",
        "print(u)  # Output: 'A'\n",
        "\n",
        "# Hexadecimal for 'Hello' ('H': 48, 'e': 65, 'l': 6C, 'l': 6C, 'o': 6F)\n",
        "v = \"\\x48\\x65\\x6C\\x6C\\x6F\"\n",
        "print(v)  # Output: 'Hello'\n"
      ],
      "metadata": {
        "colab": {
          "base_uri": "https://localhost:8080/"
        },
        "id": "BATFwENNTgRd",
        "outputId": "9361c534-159f-4465-dca8-37d012025be7"
      },
      "execution_count": null,
      "outputs": [
        {
          "output_type": "stream",
          "name": "stdout",
          "text": [
            "We are so called \fVikikngs\f from the north.\n",
            "A\n",
            "Hello\n",
            "A\n",
            "Hello\n"
          ]
        }
      ]
    },
    {
      "cell_type": "code",
      "source": [
        "#Booleans\n",
        "#Boolean Values\n",
        "print(10 > 9)\n",
        "print(10 == 100)\n",
        "print(10 < 9)\n",
        "\n",
        "#Boolean values with condition\n",
        "a = 200\n",
        "b = 33\n",
        "\n",
        "if b > a:\n",
        "  print(\"b is greater than a\")\n",
        "else:\n",
        "  print(\"b is not greater than a\")\n",
        "\n",
        "\n",
        "\n",
        "# Evaluate Values and variables\n",
        "print(bool(\"Hello\")) #evaluating string\n",
        "print(bool(15))  #evaluating number\n",
        "\n",
        "#Evaluating two variables\n",
        "x = \"Hello\"\n",
        "y = 15\n",
        "\n",
        "print(bool(x))\n",
        "print(bool(y))"
      ],
      "metadata": {
        "colab": {
          "base_uri": "https://localhost:8080/"
        },
        "id": "hGLMUcjWWJXo",
        "outputId": "0d48c65a-d70f-4731-d4c8-eeecebbf8ffe"
      },
      "execution_count": null,
      "outputs": [
        {
          "output_type": "stream",
          "name": "stdout",
          "text": [
            "True\n",
            "False\n",
            "False\n",
            "b is not greater than a\n",
            "True\n",
            "True\n",
            "True\n",
            "True\n"
          ]
        }
      ]
    },
    {
      "cell_type": "code",
      "source": [
        "#Most Values are true\n",
        "bool(\"abc\")\n",
        "bool(123)\n",
        "bool([\"apple\", \"cherry\", \"banana\"])\n"
      ],
      "metadata": {
        "colab": {
          "base_uri": "https://localhost:8080/"
        },
        "id": "K5LIyFgUcKsA",
        "outputId": "ed2c5386-1653-46f4-cfc0-0247f8d967c1"
      },
      "execution_count": null,
      "outputs": [
        {
          "output_type": "execute_result",
          "data": {
            "text/plain": [
              "True"
            ]
          },
          "metadata": {},
          "execution_count": 55
        }
      ]
    },
    {
      "cell_type": "code",
      "source": [
        "#Some Values are false\n",
        "bool(False)\n",
        "bool(None)\n",
        "bool(0)\n",
        "bool(\"\")\n",
        "bool(())\n",
        "bool([])\n",
        "bool({})"
      ],
      "metadata": {
        "colab": {
          "base_uri": "https://localhost:8080/"
        },
        "id": "BmI4U0m7iAs2",
        "outputId": "50824f9c-f6af-4b61-ebb2-ccc94e10a3a7"
      },
      "execution_count": null,
      "outputs": [
        {
          "output_type": "execute_result",
          "data": {
            "text/plain": [
              "False"
            ]
          },
          "metadata": {},
          "execution_count": 56
        }
      ]
    },
    {
      "cell_type": "code",
      "source": [
        "class myclass():\n",
        "  def __def__(self):\n",
        "    return 0\n",
        "\n",
        "myobj = myclass()\n",
        "print(bool(myobj))"
      ],
      "metadata": {
        "colab": {
          "base_uri": "https://localhost:8080/"
        },
        "id": "S2B31tPhibNv",
        "outputId": "d24eaa47-611f-47ee-aeca-780b5f5cee49"
      },
      "execution_count": null,
      "outputs": [
        {
          "output_type": "stream",
          "name": "stdout",
          "text": [
            "True\n"
          ]
        }
      ]
    },
    {
      "cell_type": "code",
      "source": [
        "#Functions can return a boolean\n",
        "def myFunction():\n",
        "  return True\n",
        "\n",
        "print(myFunction())"
      ],
      "metadata": {
        "colab": {
          "base_uri": "https://localhost:8080/"
        },
        "id": "793KpkjyitOR",
        "outputId": "43590d74-4d66-4f96-a486-2f1f5d5458f3"
      },
      "execution_count": null,
      "outputs": [
        {
          "output_type": "stream",
          "name": "stdout",
          "text": [
            "True\n"
          ]
        }
      ]
    },
    {
      "cell_type": "code",
      "source": [
        "def myFunction():\n",
        "  return True\n",
        "\n",
        "if myFunction():\n",
        "  print(\"Yes!\")\n",
        "else:\n",
        "  print(\"No!\")"
      ],
      "metadata": {
        "colab": {
          "base_uri": "https://localhost:8080/"
        },
        "id": "rD1emfOtjFcX",
        "outputId": "cc61ad4f-4631-4470-fd1a-03619bab6042"
      },
      "execution_count": null,
      "outputs": [
        {
          "output_type": "stream",
          "name": "stdout",
          "text": [
            "Yes!\n"
          ]
        }
      ]
    },
    {
      "cell_type": "code",
      "source": [
        "x = 200\n",
        "print(isinstance(x, int))"
      ],
      "metadata": {
        "colab": {
          "base_uri": "https://localhost:8080/"
        },
        "id": "PqYOe3ZKjcSJ",
        "outputId": "d17bc7f5-a816-4909-94dc-dc545dc0403a"
      },
      "execution_count": null,
      "outputs": [
        {
          "output_type": "stream",
          "name": "stdout",
          "text": [
            "True\n"
          ]
        }
      ]
    },
    {
      "cell_type": "code",
      "source": [
        "#Arithmetic Operators\n",
        "print(10 + 5)   #addition\n",
        "print(10 - 5)   #subtraction\n",
        "print(10 * 5)   #Multiplication\n",
        "print(10 / 5)   #division\n",
        "print(10 % 5)   #Modulus\n",
        "print(10 ** 5)  #Exponention\n",
        "print(10 // 5)  #Remainder"
      ],
      "metadata": {
        "colab": {
          "base_uri": "https://localhost:8080/"
        },
        "id": "CMaBdrW8jjgX",
        "outputId": "bd4a6ef8-7aa3-41cc-b56c-91456958883c"
      },
      "execution_count": null,
      "outputs": [
        {
          "output_type": "stream",
          "name": "stdout",
          "text": [
            "15\n",
            "5\n",
            "50\n",
            "2.0\n",
            "0\n",
            "100000\n",
            "2\n"
          ]
        }
      ]
    },
    {
      "cell_type": "code",
      "source": [
        "#Assignment operators\n",
        "x = 5   #x=5\n",
        "x += 3  #x=x+3\n",
        "x -= 3  #x=x-3\n",
        "x *= 3  #x=x*3\n",
        "x /= 3  #x=x/3\n",
        "\n",
        "# %=; //=; **=; &=; |/;"
      ],
      "metadata": {
        "id": "y4EsSAzhjrov"
      },
      "execution_count": null,
      "outputs": []
    },
    {
      "cell_type": "code",
      "source": [
        "#List\n",
        "mylist = [\"apple\", \"banana\", \"cherry\", \"cherry\"]  #lists of duplicates\n",
        "print(mylist)\n",
        "print(len(mylist))   #length of the list\n",
        "print(mylist[0]) #to print specific element"
      ],
      "metadata": {
        "colab": {
          "base_uri": "https://localhost:8080/"
        },
        "id": "oLbwjPEClA9-",
        "outputId": "82cf247e-e4dc-4833-8fb1-b060f3c71a91"
      },
      "execution_count": null,
      "outputs": [
        {
          "output_type": "stream",
          "name": "stdout",
          "text": [
            "['apple', 'banana', 'cherry', 'cherry']\n",
            "4\n",
            "apple\n"
          ]
        }
      ]
    },
    {
      "cell_type": "code",
      "source": [
        "#List Items - Data Types\n",
        "list1 = [\"apple\", \"banana\", \"cherry\"]\n",
        "list2 = [1, 5, 7, 9, 3]\n",
        "list3 = [True, False, False]\n",
        "print(list1)\n",
        "print(list2)\n",
        "print(list3)"
      ],
      "metadata": {
        "colab": {
          "base_uri": "https://localhost:8080/"
        },
        "id": "tix9Ej9OnuqI",
        "outputId": "85e31bf2-cd14-4c39-ab7b-d84e394bb4d2"
      },
      "execution_count": null,
      "outputs": [
        {
          "output_type": "stream",
          "name": "stdout",
          "text": [
            "['apple', 'banana', 'cherry']\n",
            "[1, 5, 7, 9, 3]\n",
            "[True, False, False]\n"
          ]
        }
      ]
    },
    {
      "cell_type": "code",
      "source": [
        "#List with strings, integers, and boolean values\n",
        "list1 = [\"abc\", 34, True, 40, \"male\"]\n",
        "print(list1)\n",
        "print(type(list1))\n"
      ],
      "metadata": {
        "colab": {
          "base_uri": "https://localhost:8080/"
        },
        "id": "cnjfNWyvpB-9",
        "outputId": "90ac806b-99b5-4fb3-86bd-02fa4dce2fce"
      },
      "execution_count": null,
      "outputs": [
        {
          "output_type": "stream",
          "name": "stdout",
          "text": [
            "['abc', 34, True, 40, 'male']\n",
            "<class 'list'>\n"
          ]
        }
      ]
    },
    {
      "cell_type": "code",
      "source": [
        "#list()-----> used to make a list\n",
        "list1 = list((\"apple\", \"banana\", \"cherry\"))\n",
        "print(list1)"
      ],
      "metadata": {
        "colab": {
          "base_uri": "https://localhost:8080/"
        },
        "id": "T9vX92rAp6-L",
        "outputId": "73515165-7b94-4fdc-e769-8971e6c1a73a"
      },
      "execution_count": null,
      "outputs": [
        {
          "output_type": "stream",
          "name": "stdout",
          "text": [
            "['apple', 'banana', 'cherry']\n"
          ]
        }
      ]
    },
    {
      "cell_type": "code",
      "source": [
        "#Access list items\n",
        "#Access Items\n",
        "thislist = [\"Apple\", \"Banana\", \"Cherry\"]\n",
        "print(thislist[1])\n",
        "print(thislist[-1]) #negative indexing"
      ],
      "metadata": {
        "id": "h0iyv9r-qc3P",
        "colab": {
          "base_uri": "https://localhost:8080/"
        },
        "outputId": "7cb263d1-05ff-44fb-815c-0ca5889decd7"
      },
      "execution_count": null,
      "outputs": [
        {
          "output_type": "stream",
          "name": "stdout",
          "text": [
            "Banana\n",
            "Cherry\n"
          ]
        }
      ]
    },
    {
      "cell_type": "code",
      "source": [
        "#range of indexes\n",
        "thislist = [\"Apple\", \"Banana\", \"Cherry\", \"Orange\", \"Kiwi\", \"Melon\", \"Mango\"]\n",
        "print(thislist[2:5])\n",
        "print(thislist[:5])\n",
        "print(thislist[3:])\n",
        "print(thislist[-4:-1])"
      ],
      "metadata": {
        "colab": {
          "base_uri": "https://localhost:8080/"
        },
        "id": "ZnwxKbq9sH7o",
        "outputId": "95a70708-4f9d-4177-9c3f-31c7f8b5e7f3"
      },
      "execution_count": null,
      "outputs": [
        {
          "output_type": "stream",
          "name": "stdout",
          "text": [
            "['Cherry', 'Orange', 'Kiwi']\n",
            "['Apple', 'Banana', 'Cherry', 'Orange', 'Kiwi']\n",
            "['Orange', 'Kiwi', 'Melon', 'Mango']\n",
            "['Orange', 'Kiwi', 'Melon']\n"
          ]
        }
      ]
    },
    {
      "cell_type": "code",
      "source": [
        "#if and in\n",
        "thislist = [\"Apple\", \"Banana\", \"Cherry\", \"Orange\", \"Kiwi\", \"Melon\", \"Mango\"]\n",
        "if \"Apple\" in thislist:\n",
        "  print(\"Yes, Apple is in the fruit list\")"
      ],
      "metadata": {
        "colab": {
          "base_uri": "https://localhost:8080/"
        },
        "id": "E1bf7f8gso3f",
        "outputId": "51ee55c7-3165-4d60-b19a-7054e3fc0bef"
      },
      "execution_count": null,
      "outputs": [
        {
          "output_type": "stream",
          "name": "stdout",
          "text": [
            "Yes, Apple is in the fruit list\n"
          ]
        }
      ]
    },
    {
      "cell_type": "code",
      "source": [
        "#Change Item Value\n",
        "list1 = [\"Apple\", \"Banana\", \"Cherry\"]\n",
        "list1[1] = \"blackcurrent\"\n",
        "print(list1)"
      ],
      "metadata": {
        "colab": {
          "base_uri": "https://localhost:8080/"
        },
        "id": "tZAPur7ltdEb",
        "outputId": "36fa1451-86d3-4e24-a2ce-d50637143f72"
      },
      "execution_count": null,
      "outputs": [
        {
          "output_type": "stream",
          "name": "stdout",
          "text": [
            "['Apple', 'blackcurrent', 'Cherry']\n"
          ]
        }
      ]
    },
    {
      "cell_type": "code",
      "source": [
        "list1 = [\"Apple\", \"Banana\", \"Cherry\", \"Orange\", \"Kiwi\", \"Mango\"]\n",
        "list1[1:3] = [\"blackcurrent\", \"Watermelon\"]\n",
        "print(list1)"
      ],
      "metadata": {
        "colab": {
          "base_uri": "https://localhost:8080/"
        },
        "id": "DqyeDyw_t8cP",
        "outputId": "2a6b55cb-709b-4296-8f70-27fbecd16d89"
      },
      "execution_count": null,
      "outputs": [
        {
          "output_type": "stream",
          "name": "stdout",
          "text": [
            "['Apple', 'blackcurrent', 'Watermelon', 'Orange', 'Kiwi', 'Mango']\n"
          ]
        }
      ]
    },
    {
      "cell_type": "code",
      "source": [
        "list1 = [\"Apple\", \"Banana\", \"Cherry\"]\n",
        "list1[1:2] = [\"Blackcurrent\", \"Watermelon\"]\n",
        "print(list1)"
      ],
      "metadata": {
        "colab": {
          "base_uri": "https://localhost:8080/"
        },
        "id": "e0kR2JdYugi_",
        "outputId": "c29d1594-4a0b-4f08-bcf2-2515b06ee674"
      },
      "execution_count": null,
      "outputs": [
        {
          "output_type": "stream",
          "name": "stdout",
          "text": [
            "['Apple', 'Blackcurrent', 'Watermelon', 'Cherry']\n"
          ]
        }
      ]
    },
    {
      "cell_type": "code",
      "source": [
        "#replacing second and third value\n",
        "list1 = [\"Apple\", \"Banana\", \"Cherry\"]\n",
        "list1[1:3] = [\"Watermelon\"]\n",
        "print(list1)"
      ],
      "metadata": {
        "colab": {
          "base_uri": "https://localhost:8080/"
        },
        "id": "KVzxJHnpwlVk",
        "outputId": "390bc63b-9596-4678-c1d1-18ae03f9d553"
      },
      "execution_count": null,
      "outputs": [
        {
          "output_type": "stream",
          "name": "stdout",
          "text": [
            "['Apple', 'Watermelon']\n"
          ]
        }
      ]
    },
    {
      "cell_type": "code",
      "source": [
        "#inserting \"Watermelon\" as 3rd vale\n",
        "list1 = [\"Apple\", \"Banana\", \"Cherry\", \"Orange\", \"Kiwi\", \"Mango\"]\n",
        "list1.insert(2, \"Watermelon\")\n",
        "print(list1)"
      ],
      "metadata": {
        "colab": {
          "base_uri": "https://localhost:8080/"
        },
        "id": "HteHtGafxRRM",
        "outputId": "8b490444-2e0c-41e3-ef1f-6ec7946e61b6"
      },
      "execution_count": null,
      "outputs": [
        {
          "output_type": "stream",
          "name": "stdout",
          "text": [
            "['Apple', 'Banana', 'Watermelon', 'Cherry', 'Orange', 'Kiwi', 'Mango']\n"
          ]
        }
      ]
    },
    {
      "cell_type": "code",
      "source": [
        "#adding list items\n",
        "#append\n",
        "list1 = [\"Apple\", \"Banana\", \"Cherry\", \"Kiwi\", \"Mango\"]\n",
        "list1.append(\"orange\")\n",
        "print(list1)"
      ],
      "metadata": {
        "colab": {
          "base_uri": "https://localhost:8080/"
        },
        "id": "qWPAMT_EyC_c",
        "outputId": "819e5e06-e0f3-44c2-d50d-07e6ffa33842"
      },
      "execution_count": null,
      "outputs": [
        {
          "output_type": "stream",
          "name": "stdout",
          "text": [
            "['Apple', 'Banana', 'Cherry', 'Kiwi', 'Mango', 'orange']\n"
          ]
        }
      ]
    },
    {
      "cell_type": "code",
      "source": [
        "#insert items\n",
        "list1 = [\"Apple\", \"Banana\", \"Cherry\", \"Kiwi\", \"Mango\"]\n",
        "list1.insert(1, \"orange\")\n",
        "print(list1)"
      ],
      "metadata": {
        "colab": {
          "base_uri": "https://localhost:8080/"
        },
        "id": "mB9YcnTzy2ig",
        "outputId": "d0349faa-8d7c-46c6-c725-38934b24e403"
      },
      "execution_count": null,
      "outputs": [
        {
          "output_type": "stream",
          "name": "stdout",
          "text": [
            "['Apple', 'orange', 'Banana', 'Cherry', 'Kiwi', 'Mango']\n"
          ]
        }
      ]
    },
    {
      "cell_type": "code",
      "source": [
        "#extending list\n",
        "list1 = [\"Apple\", \"Banana\", \"Cherry\"]\n",
        "list2 = [\"Orange\", \"Kiwi\", \"Mango\"]\n",
        "list1.extend(list2)\n",
        "print(list1)"
      ],
      "metadata": {
        "colab": {
          "base_uri": "https://localhost:8080/"
        },
        "id": "-Pf1GIPPzIYo",
        "outputId": "27a92a74-4fdd-42f5-b626-365d93a05e4e"
      },
      "execution_count": null,
      "outputs": [
        {
          "output_type": "stream",
          "name": "stdout",
          "text": [
            "['Apple', 'Banana', 'Cherry', 'Orange', 'Kiwi', 'Mango']\n"
          ]
        }
      ]
    },
    {
      "cell_type": "code",
      "source": [
        "#Adding any iterable\n",
        "#Adding elements of a tuple to a list\n",
        "list1 = [\"Apple\", \"Banana\", \"Cherry\", \"Orange\"]\n",
        "tuple1 = (\"Kiwi\", \"Mango\")\n",
        "list1.extend(tuple1)\n",
        "print(list1)"
      ],
      "metadata": {
        "colab": {
          "base_uri": "https://localhost:8080/"
        },
        "id": "zkf_jR20zcMt",
        "outputId": "5eb15fc4-99d8-4914-8bd5-83ee2080da2c"
      },
      "execution_count": null,
      "outputs": [
        {
          "output_type": "stream",
          "name": "stdout",
          "text": [
            "['Apple', 'Banana', 'Cherry', 'Orange', 'Kiwi', 'Mango']\n"
          ]
        }
      ]
    },
    {
      "cell_type": "code",
      "source": [],
      "metadata": {
        "id": "Lgxc6xJxz3no"
      },
      "execution_count": null,
      "outputs": []
    }
  ]
}