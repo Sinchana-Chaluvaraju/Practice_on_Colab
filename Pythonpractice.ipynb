{
  "nbformat": 4,
  "nbformat_minor": 0,
  "metadata": {
    "colab": {
      "provenance": [],
      "authorship_tag": "ABX9TyNasKIxtOQXd/1K1N1v4hA3",
      "include_colab_link": true
    },
    "kernelspec": {
      "name": "python3",
      "display_name": "Python 3"
    },
    "language_info": {
      "name": "python"
    }
  },
  "cells": [
    {
      "cell_type": "markdown",
      "metadata": {
        "id": "view-in-github",
        "colab_type": "text"
      },
      "source": [
        "<a href=\"https://colab.research.google.com/github/Sinchana-Chaluvaraju/Practice_on_Colab/blob/main/Pythonpractice.ipynb\" target=\"_parent\"><img src=\"https://colab.research.google.com/assets/colab-badge.svg\" alt=\"Open In Colab\"/></a>"
      ]
    },
    {
      "cell_type": "code",
      "execution_count": null,
      "metadata": {
        "colab": {
          "base_uri": "https://localhost:8080/"
        },
        "id": "fAFNy0Kmb74H",
        "outputId": "d9683553-1ccf-4ab8-a8d4-f786441a15f7"
      },
      "outputs": [
        {
          "output_type": "stream",
          "name": "stdout",
          "text": [
            "Hello, World\n"
          ]
        }
      ],
      "source": [
        "print (\"Hello, World\")\n"
      ]
    },
    {
      "cell_type": "code",
      "source": [
        "#Python Syntax (Indentation)\n",
        "if 5 > 2:\n",
        "  print (\"Five is greater than two!\")"
      ],
      "metadata": {
        "colab": {
          "base_uri": "https://localhost:8080/"
        },
        "id": "ZFDEyZlZcm6F",
        "outputId": "f039fc38-48de-45b5-b008-93d8876dedd0"
      },
      "execution_count": null,
      "outputs": [
        {
          "output_type": "stream",
          "name": "stdout",
          "text": [
            "Five is greater than two!\n"
          ]
        }
      ]
    },
    {
      "cell_type": "code",
      "source": [
        "if 5 > 2:\n",
        "        print(\"Five is greater than two!\")"
      ],
      "metadata": {
        "colab": {
          "base_uri": "https://localhost:8080/"
        },
        "id": "Y29R9CpzdPxU",
        "outputId": "69337e11-f841-48ca-8574-853c71598b98"
      },
      "execution_count": null,
      "outputs": [
        {
          "output_type": "stream",
          "name": "stdout",
          "text": [
            "Five is greater than two!\n"
          ]
        }
      ]
    },
    {
      "cell_type": "code",
      "source": [
        "#Python Variables\n",
        "x = 5\n",
        "y = \"Hello world\"\n",
        "print ('x=', x)\n",
        "print ('y=', y)"
      ],
      "metadata": {
        "colab": {
          "base_uri": "https://localhost:8080/"
        },
        "id": "R-0ewXPSdVZf",
        "outputId": "9b43de7d-33a4-4c2d-b140-49133e4bc6bf"
      },
      "execution_count": null,
      "outputs": [
        {
          "output_type": "stream",
          "name": "stdout",
          "text": [
            "x= 5\n",
            "y= Hello world\n"
          ]
        }
      ]
    },
    {
      "cell_type": "code",
      "source": [
        "\"\"\"\n",
        "This is\n",
        "a\n",
        "multiline comment\n",
        "\"\"\"\n",
        "print (\"Hello World\")"
      ],
      "metadata": {
        "colab": {
          "base_uri": "https://localhost:8080/"
        },
        "id": "KZi3bXb2doJ6",
        "outputId": "247d4949-2586-4e7b-d5d8-1fef3ee0af47"
      },
      "execution_count": null,
      "outputs": [
        {
          "output_type": "stream",
          "name": "stdout",
          "text": [
            "Hello World\n"
          ]
        }
      ]
    },
    {
      "cell_type": "code",
      "source": [
        "#Python Variables\n",
        "x= 5\n",
        "x= \"Sinchana\"\n",
        "print(x)"
      ],
      "metadata": {
        "colab": {
          "base_uri": "https://localhost:8080/"
        },
        "id": "XNBpEykweU97",
        "outputId": "e87f62b1-7742-4301-e5a9-e73a3bd3b344"
      },
      "execution_count": null,
      "outputs": [
        {
          "output_type": "stream",
          "name": "stdout",
          "text": [
            "Sinchana\n"
          ]
        }
      ]
    },
    {
      "cell_type": "code",
      "source": [
        "#casting: specifying the datatype of a variable\n",
        "x= int(5)\n",
        "y= float(5)\n",
        "z= str(5)\n",
        "print (x)\n",
        "print (y)\n",
        "print (z)"
      ],
      "metadata": {
        "colab": {
          "base_uri": "https://localhost:8080/"
        },
        "id": "06DNYCF3ef9U",
        "outputId": "cb07a6fa-cc42-43d5-e25f-75dcc49db1db"
      },
      "execution_count": null,
      "outputs": [
        {
          "output_type": "stream",
          "name": "stdout",
          "text": [
            "5\n",
            "5.0\n",
            "5\n"
          ]
        }
      ]
    },
    {
      "cell_type": "code",
      "source": [
        "#to get the datatype of a variable\n",
        "x= 5\n",
        "y= 6.6\n",
        "z= \"Sinchana\"\n",
        "print (type(x))\n",
        "print (type(y))\n",
        "print (type(z))"
      ],
      "metadata": {
        "colab": {
          "base_uri": "https://localhost:8080/"
        },
        "id": "oOCP3Z5_fBn6",
        "outputId": "21733b27-1b98-4098-e61a-c20e2add92fb"
      },
      "execution_count": null,
      "outputs": [
        {
          "output_type": "stream",
          "name": "stdout",
          "text": [
            "<class 'int'>\n",
            "<class 'float'>\n",
            "<class 'str'>\n"
          ]
        }
      ]
    },
    {
      "cell_type": "code",
      "source": [
        "#legal variable names\n",
        "myvar = \"John\"\n",
        "my_var = \"John\"\n",
        "_my_var = \"John\"\n",
        "myVar = \"John\"\n",
        "MYVAR = \"John\"\n",
        "myvar2 = \"John\""
      ],
      "metadata": {
        "id": "-NjgxEXUfdQv"
      },
      "execution_count": null,
      "outputs": []
    },
    {
      "cell_type": "code",
      "source": [
        "#Illegal names\n",
        "2myvar = \"John\"\n",
        "my-var = \"John\"\n",
        "my var = \"John\""
      ],
      "metadata": {
        "colab": {
          "base_uri": "https://localhost:8080/",
          "height": 106
        },
        "id": "lmkuTbFYfwXd",
        "outputId": "60a96e8d-5bcb-4adc-8169-514ba841dfe1"
      },
      "execution_count": null,
      "outputs": [
        {
          "output_type": "error",
          "ename": "SyntaxError",
          "evalue": "invalid decimal literal (<ipython-input-15-b561d81a3667>, line 2)",
          "traceback": [
            "\u001b[0;36m  File \u001b[0;32m\"<ipython-input-15-b561d81a3667>\"\u001b[0;36m, line \u001b[0;32m2\u001b[0m\n\u001b[0;31m    2myvar = \"John\"\u001b[0m\n\u001b[0m    ^\u001b[0m\n\u001b[0;31mSyntaxError\u001b[0m\u001b[0;31m:\u001b[0m invalid decimal literal\n"
          ]
        }
      ]
    },
    {
      "cell_type": "code",
      "source": [
        "#camel case\n",
        "myVariableName = \"Sinchana\"\n",
        "#Pascal case\n",
        "MyVariableName = \"Sinchana\"\n",
        "#snake case\n",
        "my_variable_name = \"Sinchana\""
      ],
      "metadata": {
        "id": "0dCXOTzxf0to"
      },
      "execution_count": null,
      "outputs": []
    },
    {
      "cell_type": "code",
      "source": [
        "#many values to multiple variables\n",
        "x, y, z = \"Orange\", \"Banana\", \"Cherry\"\n",
        "print(x)\n",
        "print(y)\n",
        "print(z)"
      ],
      "metadata": {
        "colab": {
          "base_uri": "https://localhost:8080/"
        },
        "id": "yNB1Fp9CgSPh",
        "outputId": "a7013ba4-138c-47fd-b4d7-266b12b7f47f"
      },
      "execution_count": null,
      "outputs": [
        {
          "output_type": "stream",
          "name": "stdout",
          "text": [
            "Orange\n",
            "Banana\n",
            "Cherry\n"
          ]
        }
      ]
    },
    {
      "cell_type": "code",
      "source": [
        "#same values to multiple variables\n",
        "x = y = z = \"Orange\"\n",
        "print(x)\n",
        "print(y)\n",
        "print(z)"
      ],
      "metadata": {
        "colab": {
          "base_uri": "https://localhost:8080/"
        },
        "id": "_pPAkLzGgdPW",
        "outputId": "560cbfef-0f2d-4380-c8ef-54db336f7ed7"
      },
      "execution_count": null,
      "outputs": [
        {
          "output_type": "stream",
          "name": "stdout",
          "text": [
            "Orange\n",
            "Orange\n",
            "Orange\n"
          ]
        }
      ]
    },
    {
      "cell_type": "code",
      "source": [
        "#unpacking a collection in list, tuple,etc\n",
        "fruits = [\"apple\", \"banana\", \"cherry\"]\n",
        "x, y, z = fruits\n",
        "print(x)\n",
        "print(y)\n",
        "print(z)"
      ],
      "metadata": {
        "colab": {
          "base_uri": "https://localhost:8080/"
        },
        "id": "l9WU0A2UgyzX",
        "outputId": "df62902d-c4c7-42d5-d9f9-6db5d4764f86"
      },
      "execution_count": null,
      "outputs": [
        {
          "output_type": "stream",
          "name": "stdout",
          "text": [
            "apple\n",
            "banana\n",
            "cherry\n"
          ]
        }
      ]
    },
    {
      "cell_type": "code",
      "source": [
        "#output variables use input functions\n",
        "x = \"Python\"\n",
        "y = \"is\"\n",
        "z = \"awesome\"\n",
        "a = 5\n",
        "b = 10\n",
        "print(a + b) # + is used as a mathematical operator\n",
        "print(x, y, z) # Prints the value of variables separated by space\n",
        "print(x + y + z) # In case of strings, + operator prints as one whole output"
      ],
      "metadata": {
        "colab": {
          "base_uri": "https://localhost:8080/"
        },
        "id": "RT38HquTg7R_",
        "outputId": "7a16edae-0780-4306-b95f-beea7a203f4d"
      },
      "execution_count": null,
      "outputs": [
        {
          "output_type": "stream",
          "name": "stdout",
          "text": [
            "15\n",
            "Python is awesome\n",
            "Pythonisawesome\n"
          ]
        }
      ]
    },
    {
      "cell_type": "code",
      "source": [
        "#not a correct usage of + operator\n",
        "x = 5\n",
        "y = \"John\"\n",
        "print(x + y)"
      ],
      "metadata": {
        "colab": {
          "base_uri": "https://localhost:8080/",
          "height": 176
        },
        "id": "GfOl6Ha0hQog",
        "outputId": "0a886807-66ae-41a9-996d-9a9165be847f"
      },
      "execution_count": null,
      "outputs": [
        {
          "output_type": "error",
          "ename": "TypeError",
          "evalue": "unsupported operand type(s) for +: 'int' and 'str'",
          "traceback": [
            "\u001b[0;31m---------------------------------------------------------------------------\u001b[0m",
            "\u001b[0;31mTypeError\u001b[0m                                 Traceback (most recent call last)",
            "\u001b[0;32m<ipython-input-25-67a9b2b940dc>\u001b[0m in \u001b[0;36m<cell line: 4>\u001b[0;34m()\u001b[0m\n\u001b[1;32m      2\u001b[0m \u001b[0mx\u001b[0m \u001b[0;34m=\u001b[0m \u001b[0;36m5\u001b[0m\u001b[0;34m\u001b[0m\u001b[0;34m\u001b[0m\u001b[0m\n\u001b[1;32m      3\u001b[0m \u001b[0my\u001b[0m \u001b[0;34m=\u001b[0m \u001b[0;34m\"John\"\u001b[0m\u001b[0;34m\u001b[0m\u001b[0;34m\u001b[0m\u001b[0m\n\u001b[0;32m----> 4\u001b[0;31m \u001b[0mprint\u001b[0m\u001b[0;34m(\u001b[0m\u001b[0mx\u001b[0m \u001b[0;34m+\u001b[0m \u001b[0my\u001b[0m\u001b[0;34m)\u001b[0m\u001b[0;34m\u001b[0m\u001b[0;34m\u001b[0m\u001b[0m\n\u001b[0m",
            "\u001b[0;31mTypeError\u001b[0m: unsupported operand type(s) for +: 'int' and 'str'"
          ]
        }
      ]
    },
    {
      "cell_type": "code",
      "source": [
        "#Global Variable: variable defined outside funtion\n",
        "x = \"awesome\"\n",
        "\n",
        "def myfunc():\n",
        "  print(\"Python is \" + x)\n",
        "\n",
        "myfunc()"
      ],
      "metadata": {
        "colab": {
          "base_uri": "https://localhost:8080/"
        },
        "id": "n28Gf86Qjond",
        "outputId": "c0ed0c89-7269-4f9c-bee6-f0d4a642c8f0"
      },
      "execution_count": null,
      "outputs": [
        {
          "output_type": "stream",
          "name": "stdout",
          "text": [
            "Python is awesome\n"
          ]
        }
      ]
    },
    {
      "cell_type": "code",
      "source": [
        "# x being both global variable and a local variable inside function\n",
        "x = \"awesome\"\n",
        "\n",
        "def myfunc():\n",
        "  x = \"fantastic\"\n",
        "  print(\"Python is \" + x)\n",
        "\n",
        "myfunc()\n",
        "\n",
        "print(\"Python is \" + x)"
      ],
      "metadata": {
        "colab": {
          "base_uri": "https://localhost:8080/"
        },
        "id": "_-0E-aX_jxft",
        "outputId": "aa9725dd-b797-4fdb-cd12-be14420af39a"
      },
      "execution_count": null,
      "outputs": [
        {
          "output_type": "stream",
          "name": "stdout",
          "text": [
            "Python is fantastic\n",
            "Python is awesome\n"
          ]
        }
      ]
    },
    {
      "cell_type": "code",
      "source": [
        "# global keyword\n",
        "x = \"awesome\"\n",
        "\n",
        "def myfunc():\n",
        "  global x # changing the value of a global variable in function\n",
        "  x = \"fantastic\"\n",
        "\n",
        "myfunc()\n",
        "\n",
        "print(\"Python is \" + x)"
      ],
      "metadata": {
        "colab": {
          "base_uri": "https://localhost:8080/"
        },
        "id": "nk_c7A99kLJb",
        "outputId": "36d7b0e5-c68f-4a52-ae07-42d3bb7d3806"
      },
      "execution_count": null,
      "outputs": [
        {
          "output_type": "stream",
          "name": "stdout",
          "text": [
            "Python is fantastic\n"
          ]
        }
      ]
    },
    {
      "cell_type": "code",
      "source": [
        "#Data Types\n",
        "a = \"Hello World\" #string\n",
        "b = 20 # int\n",
        "c = 20.5 #float\n",
        "d = 1j #complex\n",
        "e = [\"apple\", \"banana\", \"cherry\"] #list\n",
        "f = (\"apple\", \"banana\", \"cherry\")#tuple\n",
        "g = {\"name\" : \"Sinchana\", \"age\" : \"27\"}#dict\n",
        "h = {\"apple\", \"banana\", \"cherry\"}#set\n",
        "i = frozenset ( { \"apple\", \"banana\", \"cherry\" } )#frozenset\n",
        "j = range (6)# range\n",
        "k = True# or False - boolean\n",
        "l = b\"Hello\"# bytes\n",
        "m = bytearray (5) #bytearray\n",
        "n = memoryview ( bytes(5) ) #memory view\n",
        "o = None #None type\n",
        "print (a, b, c, d, e, f, g, h, i, j, k, l, m, n, o)"
      ],
      "metadata": {
        "colab": {
          "base_uri": "https://localhost:8080/"
        },
        "id": "AOPahK2vk1Mc",
        "outputId": "5cf48172-00dc-4eb7-f77b-7aa9d9c95b38"
      },
      "execution_count": null,
      "outputs": [
        {
          "output_type": "stream",
          "name": "stdout",
          "text": [
            "Hello World 20 20.5 1j ['apple', 'banana', 'cherry'] ('apple', 'banana', 'cherry') {'name': 'Sinchana', 'age': '27'} {'cherry', 'banana', 'apple'} frozenset({'cherry', 'banana', 'apple'}) range(0, 6) True b'Hello' bytearray(b'\\x00\\x00\\x00\\x00\\x00') <memory at 0x783bfa66fac0> None\n"
          ]
        }
      ]
    },
    {
      "cell_type": "code",
      "source": [
        "#Setting the specific datatype\n",
        "a = str(\"Hello World\")\n",
        "b = int(20) # int\n",
        "c = float(20.5) #float\n",
        "d = complex(1j) #complex\n",
        "e = list([\"apple\", \"banana\", \"cherry\"])#list\n",
        "f = tuple((\"apple\", \"banana\", \"cherry\"))#tuple\n",
        "g = dict({\"name\" : \"Sinchana\", \"age\" : \"27\"})#dict\n",
        "h = set({\"apple\", \"banana\", \"cherry\"})#set\n",
        "i = frozenset ( { \"apple\", \"banana\", \"cherry\" } )#frozenset\n",
        "j = range (6)# range\n",
        "k = bool(5)# or False - boolean\n",
        "l = bytes(5)# bytes\n",
        "m = bytearray (5) #bytearray\n",
        "n = memoryview(bytes(5)) #memory view access the internal data of an object's buffer without making a copy of it\n",
        "o = None #None type represents absence of value\n",
        "print (type(a), type(b), type(c), type(d), type(e), type(f), type(g), type(h), type(i), type(j), type(k), type(l), type(m), type(n), type(o))"
      ],
      "metadata": {
        "colab": {
          "base_uri": "https://localhost:8080/"
        },
        "id": "7LnJD5cpuu-4",
        "outputId": "bc5569e0-bc00-485d-e5da-32ce676e001f"
      },
      "execution_count": null,
      "outputs": [
        {
          "output_type": "stream",
          "name": "stdout",
          "text": [
            "<class 'str'> <class 'int'> <class 'float'> <class 'complex'> <class 'list'> <class 'tuple'> <class 'dict'> <class 'set'> <class 'frozenset'> <class 'range'> <class 'bool'> <class 'bytes'> <class 'bytearray'> <class 'memoryview'> <class 'NoneType'>\n"
          ]
        }
      ]
    },
    {
      "cell_type": "code",
      "source": [
        "#Python Numbers and its conversion\n",
        "x = 1 #int\n",
        "y = 2.8 #float\n",
        "z = 1j #complex\n",
        "\n",
        "#convert from int to float\n",
        "a = float(x)\n",
        "\n",
        "#convert from float to int\n",
        "b = int(y)\n",
        "\n",
        "#convert from int to complex\n",
        "c = complex(z)\n",
        "\n",
        "print(x)\n",
        "print(y)\n",
        "print(z)\n",
        "\n",
        "print(type(a))\n",
        "print(type(b))\n",
        "print(type(c))\n"
      ],
      "metadata": {
        "colab": {
          "base_uri": "https://localhost:8080/"
        },
        "id": "XV25BNzXxC_8",
        "outputId": "2c1e5696-a611-4c00-e781-d7d8e44272b1"
      },
      "execution_count": null,
      "outputs": [
        {
          "output_type": "stream",
          "name": "stdout",
          "text": [
            "1\n",
            "2.8\n",
            "1j\n",
            "<class 'float'>\n",
            "<class 'int'>\n",
            "<class 'complex'>\n"
          ]
        }
      ]
    },
    {
      "cell_type": "code",
      "source": [
        "#Random Numbers\n",
        "import random\n",
        "print(random.randrange(1, 10))"
      ],
      "metadata": {
        "colab": {
          "base_uri": "https://localhost:8080/"
        },
        "id": "ImKkoDm11due",
        "outputId": "89fd08eb-19e3-44e4-8333-d7ed26fd4c93"
      },
      "execution_count": null,
      "outputs": [
        {
          "output_type": "stream",
          "name": "stdout",
          "text": [
            "8\n"
          ]
        }
      ]
    },
    {
      "cell_type": "code",
      "source": [
        "#Python Casting Integers\n",
        "x = int(1)   # x will be 1\n",
        "y = int(2.8) # y will be 2\n",
        "z = int(\"3\") # z will be 3\n",
        "print (x,  y, z)"
      ],
      "metadata": {
        "colab": {
          "base_uri": "https://localhost:8080/"
        },
        "id": "u0MYvOXM1qMx",
        "outputId": "31a29a91-40ae-4ed8-ddf9-7702c680f2c2"
      },
      "execution_count": null,
      "outputs": [
        {
          "output_type": "stream",
          "name": "stdout",
          "text": [
            "1 2 3\n"
          ]
        }
      ]
    },
    {
      "cell_type": "code",
      "source": [
        "#Python Casting Float\n",
        "x = float(1)     # x will be 1.0\n",
        "y = float(2.8)   # y will be 2.8\n",
        "z = float(\"3\")   # z will be 3.0\n",
        "w = float(\"4.2\") # w will be 4.2\n",
        "print(x, y, z, w)"
      ],
      "metadata": {
        "colab": {
          "base_uri": "https://localhost:8080/"
        },
        "id": "DFaDP9XU2UhR",
        "outputId": "bd314a72-ccc1-443b-deb8-7667aeb9fa53"
      },
      "execution_count": null,
      "outputs": [
        {
          "output_type": "stream",
          "name": "stdout",
          "text": [
            "1.0 2.8 3.0 4.2\n"
          ]
        }
      ]
    },
    {
      "cell_type": "code",
      "source": [
        "#Python Casting strings\n",
        "x = str(\"s1\")\n",
        "y = str(2)\n",
        "z = str(3.0)\n",
        "print(x, y, z)"
      ],
      "metadata": {
        "colab": {
          "base_uri": "https://localhost:8080/"
        },
        "id": "b8JgyvOH2drk",
        "outputId": "79790659-5c51-42e2-e76e-5c820ff725a3"
      },
      "execution_count": null,
      "outputs": [
        {
          "output_type": "stream",
          "name": "stdout",
          "text": [
            "s1 2 3.0\n"
          ]
        }
      ]
    },
    {
      "cell_type": "code",
      "source": [
        "#Quotes inside Quotes\n",
        "print(\"It's alright\")\n",
        "print(\"He is called 'Johnny'\")\n",
        "print('He is called \"Johnny\"')"
      ],
      "metadata": {
        "colab": {
          "base_uri": "https://localhost:8080/"
        },
        "id": "czNhC-Jr3SFg",
        "outputId": "1345487e-ca56-45e1-8d87-1fd3443a687d"
      },
      "execution_count": null,
      "outputs": [
        {
          "output_type": "stream",
          "name": "stdout",
          "text": [
            "It's alright\n",
            "He is called 'Johnny'\n",
            "He is called \"Johnny\"\n"
          ]
        }
      ]
    },
    {
      "cell_type": "code",
      "source": [
        "#multiline Strings\n",
        "a = \"\"\"Lorem ipsum dolor sit amet,\n",
        "consectetur adipiscing elit,\n",
        "sed do eiusmod tempor incididunt\n",
        "ut labore et dolore magna aliqua.\"\"\"  #or 3 single quotes\n",
        "print(a)"
      ],
      "metadata": {
        "colab": {
          "base_uri": "https://localhost:8080/"
        },
        "id": "2Pw8op3J3ZOb",
        "outputId": "7d41915a-3dd9-4bf9-80f7-b70e7226c6e9"
      },
      "execution_count": null,
      "outputs": [
        {
          "output_type": "stream",
          "name": "stdout",
          "text": [
            "Lorem ipsum dolor sit amet,\n",
            "consectetur adipiscing elit,\n",
            "sed do eiusmod tempor incididunt\n",
            "ut labore et dolore magna aliqua.\n"
          ]
        }
      ]
    },
    {
      "cell_type": "code",
      "source": [
        "#Strings are arrays\n",
        "a = \"Hello World\"\n",
        "print(a[1]) #antwort: e\n",
        "\n",
        "#looping through string\n",
        "for y in \"banana\":\n",
        "  print(y)\n",
        "\n",
        "\n",
        "#String length\n",
        "print(len(a), len(y))\n",
        "\n",
        "#check string\n",
        "txt = \"The best things in life are free!\"\n",
        "print(\"free\" in txt) #bool output\n",
        "\n",
        "#with if statement\n",
        "txt = \"The best things in life are free!\"\n",
        "if \"free\" in txt:\n",
        "  print(\"Yes, 'free' is present.\")\n",
        "\n",
        "\n",
        "#check if NOT\n",
        "msg = \"Nothing is free in life!\"\n",
        "print(\"expensive\" not in msg)\n",
        "\n",
        "#Not in if statement\n",
        "message = \"Nothing is free in life\"\n",
        "if \"expensive\" not in message:\n",
        "  print(\"No, 'expensive' is NOT present.\")"
      ],
      "metadata": {
        "colab": {
          "base_uri": "https://localhost:8080/"
        },
        "id": "4jWjllCb3oRk",
        "outputId": "eab01e4c-21a5-4180-8eac-6c3265cdf78a"
      },
      "execution_count": null,
      "outputs": [
        {
          "output_type": "stream",
          "name": "stdout",
          "text": [
            "e\n",
            "b\n",
            "a\n",
            "n\n",
            "a\n",
            "n\n",
            "a\n",
            "11 1\n",
            "True\n",
            "Yes, 'free' is present.\n",
            "True\n",
            "No, 'expensive' is NOT present.\n"
          ]
        }
      ]
    },
    {
      "cell_type": "code",
      "source": [
        "#Slicing Strings\n"
      ],
      "metadata": {
        "id": "7HZIgWDG6u04"
      },
      "execution_count": null,
      "outputs": []
    }
  ]
}